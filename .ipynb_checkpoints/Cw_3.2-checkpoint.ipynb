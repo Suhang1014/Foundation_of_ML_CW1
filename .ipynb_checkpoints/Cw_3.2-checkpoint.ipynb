{
 "cells": [
  {
   "cell_type": "markdown",
   "metadata": {},
   "source": [
    "# 3.2 Iris Data"
   ]
  },
  {
   "cell_type": "code",
   "execution_count": 1,
   "metadata": {},
   "outputs": [],
   "source": [
    "%matplotlib inline\n",
    "import numpy as np\n",
    "import pandas as pd\n",
    "import matplotlib.pyplot as plt\n",
    "plt.style.use('seaborn')\n",
    "from sklearn.datasets import load_iris"
   ]
  },
  {
   "cell_type": "code",
   "execution_count": 2,
   "metadata": {},
   "outputs": [],
   "source": [
    "# load data\n",
    "iris_dataset = load_iris()"
   ]
  },
  {
   "cell_type": "code",
   "execution_count": 3,
   "metadata": {},
   "outputs": [
    {
     "name": "stdout",
     "output_type": "stream",
     "text": [
      "Keys of iris_dataset:\n",
      "dict_keys(['data', 'target', 'target_names', 'DESCR', 'feature_names'])\n"
     ]
    }
   ],
   "source": [
    "# check keys in dataset\n",
    "print(\"Keys of iris_dataset:\\n{}\".format(iris_dataset.keys()))"
   ]
  },
  {
   "cell_type": "code",
   "execution_count": 4,
   "metadata": {},
   "outputs": [
    {
     "name": "stdout",
     "output_type": "stream",
     "text": [
      "DESCR of iris_dataset:\n",
      "Iris Plants Database\n",
      "====================\n",
      "\n",
      "Notes\n",
      "-----\n",
      "Data Set Characteristics:\n",
      "    :Number of Instances: 150 (50 in each of three classes)\n",
      "    :Number of Attributes: 4 numeric, predictive attributes and the class\n",
      "    :Attribute Information:\n",
      "        - sepal length in cm\n",
      "        - sepal width in cm\n",
      "        - petal length in cm\n",
      "        - petal width in cm\n",
      "        - class:\n",
      "                - Iris-Setosa\n",
      "                - Iris-Versicolour\n",
      "                - Iris-Virginica\n",
      "    :Summary Statistics:\n",
      "\n",
      "    ============== ==== ==== ======= ===== ====================\n",
      "                    Min  Max   Mean    SD   Class Correlation\n",
      "    ============== ==== ==== ======= ===== ====================\n",
      "    sepal length:   4.3  7.9   5.84   0.83    0.7826\n",
      "    sepal width:    2.0  4.4   3.05   0.43   -0.4194\n",
      "    petal length:   1.0  6.9   3.76   1.76    0.9490  (high!)\n",
      "    petal width:    0.1  2.5   1.20  0.76     0.9565  (high!)\n",
      "    ============== ==== ==== ======= ===== ====================\n",
      "\n",
      "    :Missing Attribute Values: None\n",
      "    :Class Distribution: 33.3% for each of 3 classes.\n",
      "    :Creator: R.A. Fisher\n",
      "    :Donor: Michael Marshall (MARSHALL%PLU@io.arc.nasa.gov)\n",
      "    :Date: July, 1988\n",
      "\n",
      "This is a copy of UCI ML iris datasets.\n",
      "http://archive.ics.uci.edu/ml/datasets/Iris\n",
      "\n",
      "The famous Iris database, first used by Sir R.A Fisher\n",
      "\n",
      "This is perhaps the best known database to be found in the\n",
      "pattern recognition literature.  Fisher's paper is a classic in the field and\n",
      "is referenced frequently to this day.  (See Duda & Hart, for example.)  The\n",
      "data set contains 3 classes of 50 instances each, where each class refers to a\n",
      "type of iris plant.  One class is linearly separable from the other 2; the\n",
      "latter are NOT linearly separable from each other.\n",
      "\n",
      "References\n",
      "----------\n",
      "   - Fisher,R.A. \"The use of multiple measurements in taxonomic problems\"\n",
      "     Annual Eugenics, 7, Part II, 179-188 (1936); also in \"Contributions to\n",
      "     Mathematical Statistics\" (John Wiley, NY, 1950).\n",
      "   - Duda,R.O., & Hart,P.E. (1973) Pattern Classification and Scene Analysis.\n",
      "     (Q327.D83) John Wiley & Sons.  ISBN 0-471-22361-1.  See page 218.\n",
      "   - Dasarathy, B.V. (1980) \"Nosing Around the Neighborhood: A New System\n",
      "     Structure and Classification Rule for Recognition in Partially Exposed\n",
      "     Environments\".  IEEE Transactions on Pattern Analysis and Machine\n",
      "     Intelligence, Vol. PAMI-2, No. 1, 67-71.\n",
      "   - Gates, G.W. (1972) \"The Reduced Nearest Neighbor Rule\".  IEEE Transactions\n",
      "     on Information Theory, May 1972, 431-433.\n",
      "   - See also: 1988 MLC Proceedings, 54-64.  Cheeseman et al\"s AUTOCLASS II\n",
      "     conceptual clustering system finds 3 classes in the data.\n",
      "   - Many, many more ...\n",
      "\n"
     ]
    }
   ],
   "source": [
    "# check the discription \n",
    "print('DESCR of iris_dataset:\\n{}'.format(iris_dataset['DESCR']))"
   ]
  },
  {
   "cell_type": "code",
   "execution_count": 5,
   "metadata": {},
   "outputs": [
    {
     "name": "stdout",
     "output_type": "stream",
     "text": [
      "Feature names of iris_dataset:\n",
      "['sepal length (cm)', 'sepal width (cm)', 'petal length (cm)', 'petal width (cm)']\n"
     ]
    }
   ],
   "source": [
    "print('Feature names of iris_dataset:\\n{}'.format(iris_dataset['feature_names']))"
   ]
  },
  {
   "cell_type": "code",
   "execution_count": 6,
   "metadata": {},
   "outputs": [
    {
     "name": "stdout",
     "output_type": "stream",
     "text": [
      "data of iris_dataset:\n",
      "[[5.1 3.5 1.4 0.2]\n",
      " [4.9 3.  1.4 0.2]\n",
      " [4.7 3.2 1.3 0.2]\n",
      " [4.6 3.1 1.5 0.2]\n",
      " [5.  3.6 1.4 0.2]]\n",
      "shape of iris_dataset:\n",
      "(150, 4)\n"
     ]
    }
   ],
   "source": [
    "print('data of iris_dataset:\\n{}'.format(iris_dataset['data'][:5]))\n",
    "print('shape of iris_dataset:\\n{}'.format(iris_dataset['data'].shape))"
   ]
  },
  {
   "cell_type": "code",
   "execution_count": 7,
   "metadata": {},
   "outputs": [
    {
     "name": "stdout",
     "output_type": "stream",
     "text": [
      "target_names of iris_dataset:\n",
      "['setosa' 'versicolor' 'virginica']\n"
     ]
    }
   ],
   "source": [
    "print('target_names of iris_dataset:\\n{}'.format(iris_dataset['target_names']))"
   ]
  },
  {
   "cell_type": "code",
   "execution_count": 8,
   "metadata": {},
   "outputs": [],
   "source": [
    "# 样本矩阵\n",
    "iris = iris_dataset.data\n",
    "# 类标签\n",
    "target_names = iris_dataset.target_names"
   ]
  },
  {
   "cell_type": "code",
   "execution_count": 9,
   "metadata": {},
   "outputs": [
    {
     "name": "stdout",
     "output_type": "stream",
     "text": [
      "[0 0 0 0 0 0 0 0 0 0 0 0 0 0 0 0 0 0 0 0 0 0 0 0 0 0 0 0 0 0 0 0 0 0 0 0 0\n",
      " 0 0 0 0 0 0 0 0 0 0 0 0 0 1 1 1 1 1 1 1 1 1 1 1 1 1 1 1 1 1 1 1 1 1 1 1 1\n",
      " 1 1 1 1 1 1 1 1 1 1 1 1 1 1 1 1 1 1 1 1 1 1 1 1 1 1 2 2 2 2 2 2 2 2 2 2 2\n",
      " 2 2 2 2 2 2 2 2 2 2 2 2 2 2 2 2 2 2 2 2 2 2 2 2 2 2 2 2 2 2 2 2 2 2 2 2 2\n",
      " 2 2]\n"
     ]
    }
   ],
   "source": [
    "# 目标向量\n",
    "target = iris_dataset.target\n",
    "print(target)"
   ]
  },
  {
   "cell_type": "code",
   "execution_count": 10,
   "metadata": {},
   "outputs": [
    {
     "name": "stdout",
     "output_type": "stream",
     "text": [
      "Mean Vector of class 0: [5.006 3.418 1.464 0.244]\n",
      "\n",
      "Mean Vector of class 1: [5.936 2.77  4.26  1.326]\n",
      "\n",
      "Mean Vector of class 2: [6.588 2.974 5.552 2.026]\n",
      "\n"
     ]
    }
   ],
   "source": [
    "# 计算均值向量\n",
    "mean_vectors = []\n",
    "for cl in range(0,3):\n",
    "    mean_vectors.append(np.mean(iris[target==cl], axis=0))\n",
    "    print('Mean Vector of class %s: %s\\n' %(cl, mean_vectors[cl]))"
   ]
  },
  {
   "cell_type": "code",
   "execution_count": 11,
   "metadata": {},
   "outputs": [
    {
     "name": "stdout",
     "output_type": "stream",
     "text": [
      "within-class covariance Matrix:\n",
      " [[38.9562 13.683  24.614   5.6556]\n",
      " [13.683  17.035   8.12    4.9132]\n",
      " [24.614   8.12   27.22    6.2536]\n",
      " [ 5.6556  4.9132  6.2536  6.1756]]\n"
     ]
    }
   ],
   "source": [
    "# Computing the covariance matrices\n",
    "\n",
    "# within-class covariance matrices\n",
    "sigma_w = np.zeros((4,4))\n",
    "for cl,mv in zip(range(0,3), mean_vectors):\n",
    "    class_cov_mat = np.zeros((4,4))                  # scatter matrix for every class\n",
    "    for row in iris[target == cl]:\n",
    "        row, mv = row.reshape(4,1), mv.reshape(4,1)  # make column vectors\n",
    "        class_cov_mat += (row-mv).dot((row-mv).T)\n",
    "    sigma_w += class_cov_mat                         # sum class scatter matrices\n",
    "print('within-class covariance Matrix:\\n', sigma_w)"
   ]
  },
  {
   "cell_type": "code",
   "execution_count": 12,
   "metadata": {},
   "outputs": [
    {
     "name": "stdout",
     "output_type": "stream",
     "text": [
      "overall mean:\n",
      " [5.84333333 3.054      3.75866667 1.19866667]\n",
      "between-class Scatter Matrix:\n",
      " [[ 0.42141422 -0.13022667  1.10109778  0.47575378]\n",
      " [-0.13022667  0.073184   -0.37370133 -0.14994933]\n",
      " [ 1.10109778 -0.37370133  2.91095822  1.24605422]\n",
      " [ 0.47575378 -0.14994933  1.24605422  0.53736089]]\n"
     ]
    }
   ],
   "source": [
    "# between-class covariance matrices\n",
    "overall_mean = np.mean(iris, axis=0)\n",
    "print('overall mean:\\n',overall_mean)\n",
    "\n",
    "sigma_b = np.zeros((4,4))\n",
    "for mv in mean_vectors:  \n",
    "    mv = mv.reshape(4,1) # make column vector\n",
    "    overall_mean = overall_mean.reshape(4,1) # make column vector\n",
    "    sigma_b +=  1/3 * (mv - overall_mean).dot((mv - overall_mean).T)\n",
    "\n",
    "print('between-class Scatter Matrix:\\n', sigma_b)"
   ]
  },
  {
   "cell_type": "markdown",
   "metadata": {},
   "source": [
    "### 1. Find the optimal direction"
   ]
  },
  {
   "cell_type": "code",
   "execution_count": 13,
   "metadata": {},
   "outputs": [
    {
     "name": "stdout",
     "output_type": "stream",
     "text": [
      "\n",
      "Eigenvector 1: \n",
      "[[ 0.43122748]\n",
      " [ 0.08952333]\n",
      " [ 0.50890581]\n",
      " [-0.73962376]]\n",
      "Eigenvalue 1: -8.67e-02\n",
      "\n",
      "Eigenvector 2: \n",
      "[[ 0.77595698]\n",
      " [ 0.43033621]\n",
      " [-0.40027793]\n",
      " [ 0.22908315]]\n",
      "Eigenvalue 2: -4.76e-02\n",
      "\n",
      "Eigenvector 3: \n",
      "[[-0.38420452]\n",
      " [ 0.89010784]\n",
      " [ 0.24019528]\n",
      " [ 0.04900146]]\n",
      "Eigenvalue 3: 2.41e-02\n",
      "\n",
      "Eigenvector 4: \n",
      "[[ 0.25361489]\n",
      " [-0.12043398]\n",
      " [ 0.72325561]\n",
      " [ 0.63093301]]\n",
      "Eigenvalue 4: 3.27e-01\n"
     ]
    }
   ],
   "source": [
    "# calculate eigenvectors,eigenvalues for inverse of sigma_w dot sigma_b\n",
    "eig_values, eig_vectors = np.linalg.eigh(np.linalg.inv(sigma_w).dot(sigma_b))\n",
    "\n",
    "for i in range(len(eig_values)):\n",
    "    eigvec_sc = eig_vectors[:,i].reshape(4,1)   \n",
    "    print('\\nEigenvector {}: \\n{}'.format(i+1, eigvec_sc.real))\n",
    "    print('Eigenvalue {:}: {:.2e}'.format(i+1, eig_values[i].real))"
   ]
  },
  {
   "cell_type": "code",
   "execution_count": 14,
   "metadata": {},
   "outputs": [
    {
     "name": "stdout",
     "output_type": "stream",
     "text": [
      "\n",
      " [[ 1.90209617e-02]\n",
      " [-2.68951782e-02]\n",
      " [ 9.31535889e-02]\n",
      " [-5.55111512e-17]]\n",
      "\n",
      " [[ 4.04358520e-02]\n",
      " [ 2.81356808e-02]\n",
      " [-2.88523956e-02]\n",
      " [ 1.38777878e-17]]\n",
      "\n",
      " [[ 9.27616446e-03]\n",
      " [-2.05747387e-02]\n",
      " [-6.17159934e-03]\n",
      " [ 5.16080234e-17]]\n",
      "\n",
      " [[-1.42006246e-01]\n",
      " [-7.15220049e-02]\n",
      " [-7.94642863e-02]\n",
      " [-2.77555756e-17]]\n"
     ]
    }
   ],
   "source": [
    "for i in range(len(eig_values)):\n",
    "    eigenvector = eig_vectors[:,i].reshape(4,1)\n",
    "    eigenvalue = eig_values[i]\n",
    "    left = (np.linalg.inv(sigma_w).dot(sigma_b)).dot(eigenvector)\n",
    "    right = eigenvalue * eigenvector\n",
    "    print('\\n',left-right)"
   ]
  },
  {
   "cell_type": "code",
   "execution_count": 15,
   "metadata": {},
   "outputs": [
    {
     "name": "stdout",
     "output_type": "stream",
     "text": [
      "Eigenvalues in decreasing order:\n",
      "\n",
      "0.3271919679108792\n",
      "0.08674881775351163\n",
      "0.047563310010647536\n",
      "0.024116990943745826\n"
     ]
    }
   ],
   "source": [
    "# Make a list of (eigenvalue, eigenvector) tuples\n",
    "eig_pairs = [(np.abs(eig_values[i]), eig_vectors[:,i]) for i in range(len(eig_values))]\n",
    "\n",
    "# Sort the (eigenvalue, eigenvector) tuples from high to low\n",
    "eig_pairs = sorted(eig_pairs, key=lambda k: k[0], reverse=True)\n",
    "\n",
    "# Visually confirm that the list is correctly sorted by decreasing eigenvalues\n",
    "\n",
    "print('Eigenvalues in decreasing order:\\n')\n",
    "for i in eig_pairs:\n",
    "    print(i[0])"
   ]
  },
  {
   "cell_type": "code",
   "execution_count": 16,
   "metadata": {},
   "outputs": [
    {
     "name": "stdout",
     "output_type": "stream",
     "text": [
      "Variance explained:\n",
      "\n",
      "eigenvalue 1: 67.38%\n",
      "eigenvalue 2: 17.86%\n",
      "eigenvalue 3: 9.79%\n",
      "eigenvalue 4: 4.97%\n"
     ]
    }
   ],
   "source": [
    "# express the “explained variance” as percentage\n",
    "print('Variance explained:\\n')\n",
    "eigv_sum = sum(np.abs(eig_values))\n",
    "for i,j in enumerate(eig_pairs):\n",
    "    print('eigenvalue {0:}: {1:.2%}'.format(i+1, (j[0]/eigv_sum).real))"
   ]
  },
  {
   "cell_type": "code",
   "execution_count": 17,
   "metadata": {},
   "outputs": [
    {
     "name": "stdout",
     "output_type": "stream",
     "text": [
      "The optimal w*:\n",
      " [[ 0.25361489]\n",
      " [-0.12043398]\n",
      " [ 0.72325561]\n",
      " [ 0.63093301]]\n"
     ]
    }
   ],
   "source": [
    "W = eig_pairs[0][1].reshape(4,1)\n",
    "print('The optimal w*:\\n',W)"
   ]
  },
  {
   "cell_type": "markdown",
   "metadata": {},
   "source": [
    "### 2. Plot the histogram"
   ]
  },
  {
   "cell_type": "code",
   "execution_count": 18,
   "metadata": {},
   "outputs": [],
   "source": [
    "iris_lda = iris.dot(W)\n",
    "# print(iris_lda)"
   ]
  },
  {
   "cell_type": "code",
   "execution_count": 19,
   "metadata": {},
   "outputs": [
    {
     "data": {
      "image/png": "[encoded data removed]",
      "text/plain": [
       "<matplotlib.figure.Figure at 0x10f222b70>"
      ]
     },
     "metadata": {},
     "output_type": "display_data"
    }
   ],
   "source": [
    "# plot the histogram\n",
    "def plot_1d_iris():\n",
    "    ax = plt.subplot(111)\n",
    "    for label,color in zip(range(0,3), ('blue','red','green')):\n",
    "#         print(iris_lda[target==cl])\n",
    "        plt.hist(x=iris_lda[target==label],label=target_names[label],alpha=0.8)\n",
    "        \n",
    "    plt.ylabel('Count')\n",
    "    \n",
    "    legend = plt.legend(loc='upper right', fancybox=True)\n",
    "    plt.title('LDA: Iris projection onto 1-D dimension')\n",
    "    # hide axis ticks\n",
    "    plt.tick_params(axis=\"both\", which=\"both\", bottom=\"off\", top=\"off\",  \n",
    "            labelbottom=\"on\", left=\"off\", right=\"off\", labelleft=\"on\")\n",
    "\n",
    "    # remove axis spines\n",
    "    ax.spines[\"top\"].set_visible(False)  \n",
    "    ax.spines[\"right\"].set_visible(False)\n",
    "    ax.spines[\"bottom\"].set_visible(False)\n",
    "    ax.spines[\"left\"].set_visible(False)    \n",
    "\n",
    "    plt.grid()\n",
    "    plt.tight_layout\n",
    "    plt.show()\n",
    "    \n",
    "plot_1d_iris()"
   ]
  },
  {
   "cell_type": "markdown",
   "metadata": {},
   "source": [
    "### 3. W = w* + a ?"
   ]
  },
  {
   "cell_type": "code",
   "execution_count": 20,
   "metadata": {},
   "outputs": [
    {
     "name": "stdout",
     "output_type": "stream",
     "text": [
      "[[ 0.68484237]\n",
      " [-0.03091065]\n",
      " [ 1.23216142]\n",
      " [-0.10869075]]\n"
     ]
    }
   ],
   "source": [
    "a = eig_pairs[1][1].reshape(4,1)\n",
    "W2 = W + a\n",
    "print(W2)"
   ]
  },
  {
   "cell_type": "code",
   "execution_count": 21,
   "metadata": {},
   "outputs": [
    {
     "data": {
      "image/png": "[encoded data removed]",
      "text/plain": [
       "<matplotlib.figure.Figure at 0x114ee77f0>"
      ]
     },
     "metadata": {},
     "output_type": "display_data"
    }
   ],
   "source": [
    "iris_lda2 = iris.dot(W2)\n",
    "# plot the histogram\n",
    "def plot_1d_iris2():\n",
    "    ax = plt.subplot(111)\n",
    "    for label,color in zip(range(0,3), ('blue','red','green')):\n",
    "#         print(iris_lda[target==cl])\n",
    "        plt.hist(x=iris_lda2[target==label],label=target_names[label],alpha=0.8)\n",
    "        \n",
    "    plt.ylabel('Count')\n",
    "    \n",
    "    legend = plt.legend(loc='upper right', fancybox=True)\n",
    "    plt.title('LDA: Iris projection onto 1-D dimension')\n",
    "    # hide axis ticks\n",
    "    plt.tick_params(axis=\"both\", which=\"both\", bottom=\"off\", top=\"off\",  \n",
    "            labelbottom=\"on\", left=\"off\", right=\"off\", labelleft=\"on\")\n",
    "\n",
    "    # remove axis spines\n",
    "    ax.spines[\"top\"].set_visible(False)  \n",
    "    ax.spines[\"right\"].set_visible(False)\n",
    "    ax.spines[\"bottom\"].set_visible(False)\n",
    "    ax.spines[\"left\"].set_visible(False)    \n",
    "\n",
    "    plt.grid()\n",
    "    plt.tight_layout\n",
    "    plt.show()\n",
    "    \n",
    "plot_1d_iris2()"
   ]
  },
  {
   "cell_type": "markdown",
   "metadata": {},
   "source": []
  },
  {
   "cell_type": "code",
   "execution_count": null,
   "metadata": {},
   "outputs": [],
   "source": []
  },
  {
   "cell_type": "code",
   "execution_count": null,
   "metadata": {},
   "outputs": [],
   "source": []
  }
 ],
 "metadata": {
  "kernelspec": {
   "display_name": "Python 3",
   "language": "python",
   "name": "python3"
  },
  "language_info": {
   "codemirror_mode": {
    "name": "ipython",
    "version": 3
   },
   "file_extension": ".py",
   "mimetype": "text/x-python",
   "name": "python",
   "nbconvert_exporter": "python",
   "pygments_lexer": "ipython3",
   "version": "3.6.3"
  }
 },
 "nbformat": 4,
 "nbformat_minor": 2
}
